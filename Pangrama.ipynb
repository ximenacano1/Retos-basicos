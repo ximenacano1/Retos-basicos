{
 "cells": [
  {
   "cell_type": "markdown",
   "metadata": {},
   "source": [
    "## Pangramas"
   ]
  },
  {
   "cell_type": "markdown",
   "metadata": {},
   "source": [
    "Los \"pangramas\" son textos que contienen todas las letras de un cierto alfabeto, quizá repetidas.\n",
    "\n",
    "Se crea un programa que recibe varias frases y que dice si cada una de las frases es un pangrama o no. Sólo se consideran las letras del alfabeto inglés (no se tienen en cuenta las vocales acentuadas, ni la eñe, entre otras), que podrán aparecer en mayúsculas o en minúsculas."
   ]
  },
  {
   "cell_type": "code",
   "execution_count": 1,
   "metadata": {},
   "outputs": [],
   "source": [
    "# -*- coding: UTF-8 -*-"
   ]
  },
  {
   "cell_type": "code",
   "execution_count": 2,
   "metadata": {},
   "outputs": [
    {
     "name": "stdout",
     "output_type": "stream",
     "text": [
      "Numero de frases: 3\n"
     ]
    }
   ],
   "source": [
    "# El usuario ingresa por teclado la cantidad de frases \n",
    "n=int(input('Numero de frases: '))"
   ]
  },
  {
   "cell_type": "code",
   "execution_count": 3,
   "metadata": {},
   "outputs": [
    {
     "name": "stdout",
     "output_type": "stream",
     "text": [
      "Ingrese la frase: Mi mama me mima\n",
      "Ingrese la frase: El veloz murciélago hindú comía feliz cardillo y kiwi. La cigüeña tocaba el saxofón detrás del palenque de paja\n",
      "Ingrese la frase: El amor en los tiempos del cólera\n"
     ]
    }
   ],
   "source": [
    "# El usuario ingresa por teclado cada una de las frases \n",
    "frases=[]\n",
    "for i in range(0,n):\n",
    "    frase=input('Ingrese la frase: ')\n",
    "    frases+=[frase]"
   ]
  },
  {
   "cell_type": "code",
   "execution_count": 4,
   "metadata": {},
   "outputs": [],
   "source": [
    "# Se escribe una rutina que lea una frase y determine si es un Pangrama o no \n",
    "def Pangramas(frase):\n",
    "    # Se ponen todas las letras de la frase en minúscula\n",
    "    frase=frase.lower()\n",
    "    # Se crea un arreglo con todas las letras del alfabeto inglés\n",
    "    letras=['a','b','c','d','e','f','g','h','i','j','k','l','m','n','o','p','q','r','s','t','u','v','w','x','y','z']\n",
    "    # Se corre la frase letra por letra \n",
    "    for i in frase:\n",
    "        # Se corre el arreglo de letras \n",
    "        for j in letras:\n",
    "            # Condicion para determinar si una letra de la frase coincide con alguna del alfabeto\n",
    "            if i==j:\n",
    "                # Se remove la letra del alfabeto que cumple la condicion\n",
    "                letras.remove(j)\n",
    "                break\n",
    "    # Si se cumple la condicion para todas las letras del alfabeto, entonces la palabra es un Pangrama, sino no es un Pangrama\n",
    "    if len(letras)==0:\n",
    "        print(\"Es un Pangrama\")\n",
    "    else:\n",
    "        print(\"No es un Pangrama\")"
   ]
  },
  {
   "cell_type": "code",
   "execution_count": 5,
   "metadata": {},
   "outputs": [
    {
     "name": "stdout",
     "output_type": "stream",
     "text": [
      "La frase Mi mama me mima\n",
      "No es un Pangrama\n",
      "\n",
      "\n",
      "La frase El veloz murciélago hindú comía feliz cardillo y kiwi. La cigüeña tocaba el saxofón detrás del palenque de paja\n",
      "Es un Pangrama\n",
      "\n",
      "\n",
      "La frase El amor en los tiempos del cólera\n",
      "No es un Pangrama\n",
      "\n",
      "\n"
     ]
    }
   ],
   "source": [
    "# Se recorren todas las frases que ingresó el usuario por teclado \n",
    "for i in frases:\n",
    "    print(\"La frase %s\"%i)\n",
    "    Pangramas(i)\n",
    "    print(\"\\n\")"
   ]
  },
  {
   "cell_type": "code",
   "execution_count": null,
   "metadata": {},
   "outputs": [],
   "source": []
  }
 ],
 "metadata": {
  "kernelspec": {
   "display_name": "Python 3",
   "language": "python",
   "name": "python3"
  },
  "language_info": {
   "codemirror_mode": {
    "name": "ipython",
    "version": 3
   },
   "file_extension": ".py",
   "mimetype": "text/x-python",
   "name": "python",
   "nbconvert_exporter": "python",
   "pygments_lexer": "ipython3",
   "version": "3.7.3"
  }
 },
 "nbformat": 4,
 "nbformat_minor": 2
}
