{
 "cells": [
  {
   "cell_type": "code",
   "execution_count": 126,
   "metadata": {},
   "outputs": [
    {
     "name": "stdout",
     "output_type": "stream",
     "text": [
      "10 20 5 3 4 50\n"
     ]
    }
   ],
   "source": [
    "n=input()"
   ]
  },
  {
   "cell_type": "code",
   "execution_count": 127,
   "metadata": {},
   "outputs": [],
   "source": [
    "n=str(n) # Transformamos el número en un string para manipularlo como un arreglo\n",
    "\n",
    "ns=[] # Arreglo para guardar los números \n",
    "pos=[] # Arreglo para guardar las posiciones de los espacios \n",
    "\n",
    "# Iteramos en todo n para encontrar las posiciones de los espacios \n",
    "for i in range(0, len(n)):\n",
    "    if n[i]==\" \":\n",
    "        pos+=[i]\n",
    "        \n",
    "# Iteramos en el conjunto de posiciones para separar los números \n",
    "if len(pos)!=0:  \n",
    "    for i in range(0,len(pos)):\n",
    "        if i==0:\n",
    "            ns+=[int(n[0:pos[i]])]\n",
    "        if 0<i<len(pos):\n",
    "            ns+=[int(n[pos[i-1]:pos[i]])]\n",
    "        if i==len(pos)-1:\n",
    "            ns+=[int(n[pos[i]:len(n)])]\n",
    "else:\n",
    "    ns=n\n",
    "    "
   ]
  },
  {
   "cell_type": "code",
   "execution_count": 128,
   "metadata": {},
   "outputs": [
    {
     "data": {
      "text/plain": [
       "[10, 20, 5, 3, 4, 50]"
      ]
     },
     "execution_count": 128,
     "metadata": {},
     "output_type": "execute_result"
    }
   ],
   "source": [
    "ns"
   ]
  },
  {
   "cell_type": "code",
   "execution_count": 129,
   "metadata": {},
   "outputs": [
    {
     "data": {
      "text/plain": [
       "int"
      ]
     },
     "execution_count": 129,
     "metadata": {},
     "output_type": "execute_result"
    }
   ],
   "source": [
    "type(ns[0])"
   ]
  },
  {
   "cell_type": "code",
   "execution_count": null,
   "metadata": {},
   "outputs": [],
   "source": []
  }
 ],
 "metadata": {
  "kernelspec": {
   "display_name": "Python 3",
   "language": "python",
   "name": "python3"
  },
  "language_info": {
   "codemirror_mode": {
    "name": "ipython",
    "version": 3
   },
   "file_extension": ".py",
   "mimetype": "text/x-python",
   "name": "python",
   "nbconvert_exporter": "python",
   "pygments_lexer": "ipython3",
   "version": "3.7.3"
  }
 },
 "nbformat": 4,
 "nbformat_minor": 2
}
